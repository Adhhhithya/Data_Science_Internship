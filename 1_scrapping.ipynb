{
 "cells": [
  {
   "cell_type": "code",
   "execution_count": 1,
   "metadata": {},
   "outputs": [],
   "source": [
    "from bs4 import BeautifulSoup\n"
   ]
  },
  {
   "cell_type": "code",
   "execution_count": 2,
   "metadata": {},
   "outputs": [],
   "source": [
    "import requests"
   ]
  },
  {
   "cell_type": "code",
   "execution_count": 3,
   "metadata": {},
   "outputs": [],
   "source": [
    "import pandas as pd"
   ]
  },
  {
   "cell_type": "code",
   "execution_count": 4,
   "metadata": {},
   "outputs": [],
   "source": [
    "jumia =requests.get('https://www.jumia.co.ke/all-products/')"
   ]
  },
  {
   "cell_type": "code",
   "execution_count": 5,
   "metadata": {},
   "outputs": [
    {
     "data": {
      "text/plain": [
       "b'<!DOCTYPE html><html lang=\"en-US\"><head><title>Just a moment...</title><meta http-equiv=\"Content-Type\" content=\"text/html; charset=UTF-8\"><meta http-equiv=\"X-UA-Compatible\" content=\"IE=Edge\"><meta name=\"robots\" content=\"noindex,nofollow\"><meta name=\"viewport\" content=\"width=device-width,initial-scale=1\"><style>*{box-sizing:border-box;margin:0;padding:0}html{line-height:1.15;-webkit-text-size-adjust:100%;color:#313131;font-family:system-ui,-apple-system,BlinkMacSystemFont,Segoe UI,Roboto,Helvetica Neue,Arial,Noto Sans,sans-serif,Apple Color Emoji,Segoe UI Emoji,Segoe UI Symbol,Noto Color Emoji}body{display:flex;flex-direction:column;height:100vh;min-height:100vh}.main-content{margin:8rem auto;max-width:60rem;padding-left:1.5rem}@media (width <= 720px){.main-content{margin-top:4rem}}.h2{font-size:1.5rem;font-weight:500;line-height:2.25rem}@media (width <= 720px){.h2{font-size:1.25rem;line-height:1.5rem}}#challenge-error-text{background-image:url(data:image/svg+xml;base64,PHN2ZyB4bWxucz0iaHR0cDovL3d3dy53My5vcmcvMjAwMC9zdmciIHdpZHRoPSIzMiIgaGVpZ2h0PSIzMiIgZmlsbD0ibm9uZSI+PHBhdGggZmlsbD0iI0IyMEYwMyIgZD0iTTE2IDNhMTMgMTMgMCAxIDAgMTMgMTNBMTMuMDE1IDEzLjAxNSAwIDAgMCAxNiAzbTAgMjRhMTEgMTEgMCAxIDEgMTEtMTEgMTEuMDEgMTEuMDEgMCAwIDEtMTEgMTEiLz48cGF0aCBmaWxsPSIjQjIwRjAzIiBkPSJNMTcuMDM4IDE4LjYxNUgxNC44N0wxNC41NjMgOS41aDIuNzgzem0tMS4wODQgMS40MjdxLjY2IDAgMS4wNTcuMzg4LjQwNy4zODkuNDA3Ljk5NCAwIC41OTYtLjQwNy45ODQtLjM5Ny4zOS0xLjA1Ny4zODktLjY1IDAtMS4wNTYtLjM4OS0uMzk4LS4zODktLjM5OC0uOTg0IDAtLjU5Ny4zOTgtLjk4NS40MDYtLjM5NyAxLjA1Ni0uMzk3Ii8+PC9zdmc+);background-repeat:no-repeat;background-size:contain;padding-left:34px}@media (prefers-color-scheme:dark){body{background-color:#222;color:#d9d9d9}}</style><meta http-equiv=\"refresh\" content=\"120\"></head><body class=\"no-js\"><div class=\"main-wrapper\" role=\"main\"><div class=\"main-content\"><noscript><div class=\"h2\"><span id=\"challenge-error-text\">Enable JavaScript and cookies to continue</span></div></noscript></div></div><script>(function(){window._cf_chl_opt={cvId: \\'3\\',cZone: \"www.jumia.co.ke\",cType: \\'non-interactive\\',cRay: \\'91c3f17559706efb\\',cH: \\'ZD32SHrHOM7dzX59aB5zIbNT6G2rNswbPdmswGdFlgo-1741286024-1.2.1.1-.HTTIbbGlL_xNZhHs79BxBllm7BUzau_GqEadAkS_Wu6OJqt84AWfEfcDRQDb5xq\\',cUPMDTk: \"\\\\/all-products\\\\/?__cf_chl_tk=x8WriX6PQH8yVXfpmdX65dVrvE5M8ys96nQPV.g4O5Y-1741286024-1.0.1.1-Vibvlf6G9xvsInQGvO7h9p2lzDEuHQe4BgJRtlL3mHs\",cFPWv: \\'g\\',cITimeS: \\'1741286024\\',cTTimeMs: \\'1000\\',cMTimeMs: \\'120000\\',cTplC: 0,cTplV: 5,cTplB: \\'cf\\',cK: \"\",fa: \"\\\\/all-products\\\\/?__cf_chl_f_tk=x8WriX6PQH8yVXfpmdX65dVrvE5M8ys96nQPV.g4O5Y-1741286024-1.0.1.1-Vibvlf6G9xvsInQGvO7h9p2lzDEuHQe4BgJRtlL3mHs\",md: \"Y2p40i.e.ovQIBNe_9L0WX8PrXnGhyOgENscWanJapk-1741286024-1.2.1.1-FzhcHJ3UcRc9pk5O4Z.qfRC5WTABkFeCPHIUnWZKFZ_n.keH9VlnsP55DFm0G8GnivnPbaCBgHYthWU9qGV2qkWJufCZzMuK71udAjZs5IFyb.Ws5tTh0kF3660nP4VIANsF6Wo0KKgT3xhKUkoYAnGV4C2cMilOr5IwkP9b1bS7VQN.oR71ADql13NT9XI71a58p9TOMV0hhiTrW_FLkjOE9EWTvJmVJGpcB_VUrMJ9Qs5SfFKRQ1TdweJCRQTYDHp9RDEAd8k6XqtiWDP_kxjWcO_jYUxnKWh9xduqx3qcOGd0zB7MlcbgzQyeWGSm44bB9evuH0HaB4v3CewIg0fcRiukTEajaX5gLsgnKvj.Pus2_DYiM1mXdQBj7vTna4.YXbH2ITkFnLGQ2hO6aN5uqtLu8uN8C1aonv2cP2OkBFjXP5OEwKV2A2eLei0UzANJI1CRluftkgyZtzd0CelIHjtD9q_iDIA5ox6C4sjfp8TFiAhXZ18hY3K7Bps6PAvTgnf86ivHlHP6Keu9EoBV8aGanfJr.SEavRyv8wEGvzA_K7sMhZLdD7B8h4umStx7eU5KSSPeLFmOE0E8LaxdQ2CkLX0vgQSQugskg5GhfKxgB92Q0ixuJgA_1baEvQhu0syFCCtqcqECBKy1rRTpdsRGIVT4NNusvF9txPTLsNxgUKAY.RQIZcBEMevtNF.cCjDuuML9sa1AHZRTf3w9T8vfA.UpZb3imCmH5oozbaVEsJUeIVYFuJXeEp4QU5PZc6fpnr6aSuJhRruy26Be19PtT6.CE_dUh3_OruJOFYJbPAHWODIEQD7OSIBE0GkyDPzzH7dT14nARREQPvQFXgqhFUfCO3B.junc2b4a0fYom5vSyDM7ZViSSnSeTtfrQ5XVjhxotoLt7czOQ4JHekHN02be_5_uLl1WarFtoCSP.j.Fzz6uPv7CNSRAyZely.QiXCB5jpI9HHEPaoBp7VFhnO8zIQp4kviGRkhrG6.8h.xubkpIPB5DnmjjSRaPCLNJ0hgxG4jOGtlcX63UPK_xQBlQm0BzpSdxgwWomZfGjiZNRutIuYeiDzeqrq_uFs54vZ6UiKmlmmIE7w\",mdrd: \"X8P.3r.BdR.hjPQ9355DBjD7Zf_wSnYzlfhMr5fqiJQ-1741286024-1.2.1.1-r7xWlYskkLoKiGpKT6DLvpVNYmza2VtRuFOgvKPSVzxU0KEa0riZ_kYpEn7_cGIfdsAErxclEpZYzuUzxNirBvaNAOgTI6P1SSA4l4h6I0.JRlvhXcHjJzi0vJWahD__Vz6kLeaOhzz_phRjfkYv0UUFHaR.zEkkWHAc6CaGsBRHAZIbGNaDbQOx4q_8.q5mLWAKA3fesnxfOPg86BZ8NrPdSZh4rzSO7QtmC32_1G2ZZsa1pWfHnS05cywUEOb_5j1hJN2_9ehLYWqcKNvKypouOh9EB2laCHdUTe9EZOQVWSz8bSW9wVYvNG16SIX9Oj_GP7ZF2Yr0io2wU_PPOA2IS3SqE3DghBE8aIq66g22KR.cNnQJUN5YkUKJ0dXPFPfFSdTzIBCYauYacM.tnzmLSOyXI9eSIyky693MWSP3ZZF1Chrf_eeDN4vNozGqedMp0Glp1gw.d9vyd6e5o5Y7AfNGaXh6Kb54juuh3k72mOaHTmUCoMySpuSEpSutfXUuhmFhlxzYhY3fcy86NP5ZSNFPe8pYQgGyJHSnATHzNZ4.mvO3MIsm.aWGQBta43lbDKOju.uILd4.m7lJ0z6a68odEATeLJ_8X5vkHg3zzjFSDGTxuMQHq5SluypnnBiEzWGIawrTjmmwbmxGXgYJZYKPlkNXPEbARt7Ld_pCY1SDTG88ZanyePMAu2UaFSvRZw4OjdyF3Ao5C9Oo8.B_HQpJ3JYdMWhoZxnEAKIAzl1jGrGPskBkLGs0cM6.dnQFNda_n9Ixsy0Ir04TlLA0YWcYSaPOZG2u38hkPrWWykG0L82AilVipmpazxIUvA54FUHFvfQby8WZKkLbIfN4HQxh8KfF95ApwDyYXUQ6ajjSk_KblA4sVQOcLGdlAYVrlW7hhlTx77KM9YHyFLvDNJWgKP4R_4avwkqSj4fp1lKotDC6uOaz7ZLYgGfiuNBaf8j3ohinUlOUwMzy09joWEIq0Pubv5tLUCydcEOPlAMsj.Tn4_8zLLa0wrKZsLpKXYlgvvf49bHX7.gAAbbm658.s4UCSMFQC6LR8W58WewhYm_rl24m5d4UwLlAIg52UKmTui2Y_R8Dh73fHyc883FmgFsE5Jqdpv8od_GWy5MZd0.mFIe_93cpQV6L_JH78WD04VRrmTvhiUdScQ2TuAFaXO91.lHwBk1F7_oCcVzpNXXc1uDu2bDrbzUgqKeeEthHiguznXMxqPkYQ0OjJZNrxguLZiIz1aBfdXwyLB0Y9.0fGYibBztHtxngagsHpn2wyvqfYT_suzYQvLN.1187I_iTyI6TTnPvUafm4hIIRldAfmOhM5x2MgpzqCwGEiMfFL0gQz7CBRLKkbIoBcHWekHoty1aimfQwbmrbH4MH0MZSFOWTjYHgcykQOlwNTyexpPHWt8Ra29tAPQHMibGI6Ux43SSDxDRNe8gyPkY7lawiCoU.3V.p0oDs2DNCF2FQHXT5pAUOhi_QxkjJ680FuiZQ9WDoclNoGqjy7cDUCPypAtWs8Tqek_7XKCVTtAi3xqEQo7X0IZ_AliXK0gv0vD1qKtcB20x5kJEGo51msTJO5B1rtPPxFA73G7fL0rmUVwZPeYZihkpgqr.i2T5KxhPtcEsxgp4SB9beWnkiOv4.0pgl7Y553hDDxdNeBW7TvbZ9LbhWGHNqgw0ir0nut6l5.p4RW_vulyUfLaeUcpAON1Lj.39H9ugsBewTRHlwsCyO8tgmyAyC81hLQTW7JMfUECYPFu7THcYxpTudNmxT9SueXfC9DClq7MJ4U4szgW48wbRm_SuBjiCmoIu31zGvSYV8d_FBugsmRHOeTeaUS53ETHLJUUQji742Z85EtYW468XJwCqdQg.5lUboaZl2CqktS_Dp37xo1EKPVO2c1MMp7LmfzyxWEuNFcwyzPcO5SOUW5tlH6NO1UnLCYNLx3PzEyCfi700cjOtcSpux2N9Ygt98.4LdRPDhuY6JPwdt1BFdhLxDPAIQsFRuI78aey_wLbOz3sHGb2lGzCpN0Oh34wGC1pVyhhak835BeRlWLtcbWewzBc7btd6z2Yjhof5lPIbZpivQeO1bQ3p_zVQN0YE2Lu9pJHH.dPkFjiBg_0oGXOXqP5snpyNOrR_DmEv06kK7pzdhiksbPOBWgw8Wa4AcmVYkUz8o3TrDQQwgK9ucvVj7A\"};var cpo = document.createElement(\\'script\\');cpo.src = \\'/cdn-cgi/challenge-platform/h/g/orchestrate/chl_page/v1?ray=91c3f17559706efb\\';window._cf_chl_opt.cOgUHash = location.hash === \\'\\' && location.href.indexOf(\\'#\\') !== -1 ? \\'#\\' : location.hash;window._cf_chl_opt.cOgUQuery = location.search === \\'\\' && location.href.slice(0, location.href.length - window._cf_chl_opt.cOgUHash.length).indexOf(\\'?\\') !== -1 ? \\'?\\' : location.search;if (window.history && window.history.replaceState) {var ogU = location.pathname + window._cf_chl_opt.cOgUQuery + window._cf_chl_opt.cOgUHash;history.replaceState(null, null, \"\\\\/all-products\\\\/?__cf_chl_rt_tk=x8WriX6PQH8yVXfpmdX65dVrvE5M8ys96nQPV.g4O5Y-1741286024-1.0.1.1-Vibvlf6G9xvsInQGvO7h9p2lzDEuHQe4BgJRtlL3mHs\" + window._cf_chl_opt.cOgUHash);cpo.onload = function() {history.replaceState(null, null, ogU);}}document.getElementsByTagName(\\'head\\')[0].appendChild(cpo);}());</script></body></html>'"
      ]
     },
     "execution_count": 5,
     "metadata": {},
     "output_type": "execute_result"
    }
   ],
   "source": [
    "jumia.content"
   ]
  },
  {
   "cell_type": "code",
   "execution_count": 6,
   "metadata": {},
   "outputs": [],
   "source": [
    "name_info=[]\n",
    "price_info=[]\n",
    "Rating_info=[]"
   ]
  },
  {
   "cell_type": "code",
   "execution_count": 7,
   "metadata": {},
   "outputs": [],
   "source": [
    "for page in range(1,51):\n",
    "    url = \"https://www.jumia.co.ke/all-products/\"+\"?page=\"+str(page)+\"#catalog-listing\"\n",
    "    furl = requests.get(url)\n",
    "    jsoup = BeautifulSoup(furl.content,'html.parser')\n",
    "    products = jsoup.find_all('div',class_='info')\n",
    "    \n",
    "    for product in products:\n",
    "        Name = product.find('h3',class_='name').text.replace('\\n','')\n",
    "        Product = product.find('div',class_='prc').text.replace('\\n','')\n",
    "        \n",
    "        try:\n",
    "            Rating = product.find('div',class_='stars_s').text.replace('\\n','')\n",
    "        except:\n",
    "            Rating = 'None'\n",
    "            \n",
    "        name_info.append(Name)\n",
    "        price_info.append(Price)\n",
    "        Rating_info.append(Rating)\n",
    "        \n",
    "        print(name_info,price_info,Rating_info)"
   ]
  },
  {
   "cell_type": "code",
   "execution_count": 8,
   "metadata": {},
   "outputs": [],
   "source": [
    "dict_ = {'Product Name':name_info,'Price':price_info,'Rating':Rating_info}"
   ]
  },
  {
   "cell_type": "code",
   "execution_count": 9,
   "metadata": {},
   "outputs": [],
   "source": [
    "df = pd.DataFrame(dict_)"
   ]
  },
  {
   "cell_type": "code",
   "execution_count": 10,
   "metadata": {},
   "outputs": [
    {
     "data": {
      "text/html": [
       "<div>\n",
       "<style scoped>\n",
       "    .dataframe tbody tr th:only-of-type {\n",
       "        vertical-align: middle;\n",
       "    }\n",
       "\n",
       "    .dataframe tbody tr th {\n",
       "        vertical-align: top;\n",
       "    }\n",
       "\n",
       "    .dataframe thead th {\n",
       "        text-align: right;\n",
       "    }\n",
       "</style>\n",
       "<table border=\"1\" class=\"dataframe\">\n",
       "  <thead>\n",
       "    <tr style=\"text-align: right;\">\n",
       "      <th></th>\n",
       "      <th>Product Name</th>\n",
       "      <th>Price</th>\n",
       "      <th>Rating</th>\n",
       "    </tr>\n",
       "  </thead>\n",
       "  <tbody>\n",
       "  </tbody>\n",
       "</table>\n",
       "</div>"
      ],
      "text/plain": [
       "Empty DataFrame\n",
       "Columns: [Product Name, Price, Rating]\n",
       "Index: []"
      ]
     },
     "execution_count": 10,
     "metadata": {},
     "output_type": "execute_result"
    }
   ],
   "source": [
    "df"
   ]
  },
  {
   "cell_type": "code",
   "execution_count": 11,
   "metadata": {},
   "outputs": [],
   "source": [
    "import pandas as pd\n",
    "from bs4 import BeautifulSoup as beauty\n",
    "import requests"
   ]
  },
  {
   "cell_type": "code",
   "execution_count": 12,
   "metadata": {},
   "outputs": [],
   "source": [
    "url = \"https://deals.jumia.ug/real-estate\"\n",
    "all_urls = []"
   ]
  },
  {
   "cell_type": "code",
   "execution_count": 13,
   "metadata": {},
   "outputs": [],
   "source": [
    "for page in range(1,9500):\n",
    "    next_urls = url + \"?page=\" + str(page)\n",
    "    all_urls.append(next_urls)"
   ]
  },
  {
   "cell_type": "code",
   "execution_count": null,
   "metadata": {},
   "outputs": [],
   "source": [
    "for url in all_urls:\n",
    "    render = requests.get(url)\n",
    "    the_html = beauty(render.content, \"html.parser\")\n",
    "    # print(the_html)\n",
    "\n",
    "    scrape =the_html.find_all(class_ = \"text-area\")\n",
    "    # print(scrape)\n",
    "\n",
    "    scraped_data = []\n",
    "    for data in scrape:\n",
    "        scraped_data.append(data.get_text())\n",
    "        # print(data.get_text())\n",
    "    # print(scraped_data)\n",
    "    cleaned_data = [data.replace(\"\\n\", \"\") for data in scraped_data]\n",
    "    # print(cleaned_data)\n",
    "    clean_data_ = [data.replace(\"   \", \"\") for data in cleaned_data]\n",
    "    # print(clean_data_)\n",
    "\n",
    "    data_2_csv = pd.DataFrame(clean_data_, columns=[\"column\"])\n",
    "    data_2_csv.to_csv(\"jumia.csv\", mode=\"a\", index=False)\n",
    "    print(data_2_csv)"
   ]
  },
  {
   "cell_type": "code",
   "execution_count": null,
   "metadata": {},
   "outputs": [],
   "source": []
  }
 ],
 "metadata": {
  "kernelspec": {
   "display_name": "Python 3",
   "language": "python",
   "name": "python3"
  },
  "language_info": {
   "codemirror_mode": {
    "name": "ipython",
    "version": 3
   },
   "file_extension": ".py",
   "mimetype": "text/x-python",
   "name": "python",
   "nbconvert_exporter": "python",
   "pygments_lexer": "ipython3",
   "version": "3.12.1"
  }
 },
 "nbformat": 4,
 "nbformat_minor": 2
}
